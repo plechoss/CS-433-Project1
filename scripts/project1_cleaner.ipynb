{
 "cells": [
  {
   "cell_type": "code",
   "execution_count": 1,
   "metadata": {},
   "outputs": [],
   "source": [
    "# Useful starting lines\n",
    "%matplotlib inline\n",
    "import numpy as np\n",
    "import matplotlib.pyplot as plt\n",
    "import csv\n",
    "import math\n",
    "import time\n",
    "%load_ext autoreload\n",
    "%autoreload 2"
   ]
  },
  {
   "cell_type": "markdown",
   "metadata": {},
   "source": [
    "### Global variables"
   ]
  },
  {
   "cell_type": "code",
   "execution_count": 2,
   "metadata": {},
   "outputs": [],
   "source": [
    "from global_variables import *\n",
    "from data_preparation import * \n",
    "from cost import * \n",
    "from cross_validation import *\n",
    "from performances import * \n",
    "\n",
    "method = methods[0]"
   ]
  },
  {
   "cell_type": "markdown",
   "metadata": {},
   "source": [
    "# Load the data"
   ]
  },
  {
   "cell_type": "markdown",
   "metadata": {},
   "source": [
    "We map the 'b' and 's' labels to 0 and 1 respectively."
   ]
  },
  {
   "cell_type": "code",
   "execution_count": 3,
   "metadata": {},
   "outputs": [],
   "source": [
    "X, Y = load_data()"
   ]
  },
  {
   "cell_type": "code",
   "execution_count": 4,
   "metadata": {},
   "outputs": [
    {
     "name": "stdout",
     "output_type": "stream",
     "text": [
      "(250000, 30) (250000,)\n"
     ]
    }
   ],
   "source": [
    "print(X.shape, Y.shape)"
   ]
  },
  {
   "cell_type": "markdown",
   "metadata": {},
   "source": [
    "## Clean and standardize the features"
   ]
  },
  {
   "cell_type": "markdown",
   "metadata": {},
   "source": [
    "### Counting the number of invalid datapoints per column"
   ]
  },
  {
   "cell_type": "code",
   "execution_count": 5,
   "metadata": {
    "scrolled": false
   },
   "outputs": [
    {
     "name": "stdout",
     "output_type": "stream",
     "text": [
      "[ 38114      0      0      0 177457 177457 177457      0      0      0\n",
      "      0      0 177457      0      0      0      0      0      0      0\n",
      "      0      0      0  99913  99913  99913 177457 177457 177457      0]\n"
     ]
    }
   ],
   "source": [
    "invalids = np.count_nonzero(X == -999, axis=0)\n",
    "print(invalids)"
   ]
  },
  {
   "cell_type": "markdown",
   "metadata": {},
   "source": [
    "Therefore we get rid of columns [0,4,5,6,12,23,24,25,26,27,28]"
   ]
  },
  {
   "cell_type": "code",
   "execution_count": 6,
   "metadata": {},
   "outputs": [],
   "source": [
    "X_standardized = clean_and_standardize_features(X)"
   ]
  },
  {
   "cell_type": "markdown",
   "metadata": {},
   "source": [
    "## Methods from lab1 and lab2"
   ]
  },
  {
   "cell_type": "markdown",
   "metadata": {},
   "source": [
    "We decided to use the sigmoid function: $$S(z) = \\frac{1}{1 + e^{-z}}$$ <br />\n",
    "to map the predicted values to probabilities of the event being a signal(1) rather than background(0) "
   ]
  },
  {
   "cell_type": "markdown",
   "metadata": {},
   "source": [
    "We use the cross-enthropy cost function for loss computation: \n",
    "$$J(\\theta) = -\\frac{1}{N} * (y^T log(Xw) + (1-y)^T log(1-Xw))$$"
   ]
  },
  {
   "cell_type": "code",
   "execution_count": 7,
   "metadata": {},
   "outputs": [],
   "source": [
    "def grid_search(y, tx, w0, w1):\n",
    "    losses = np.zeros((len(w0), len(w1)))\n",
    "    for i in range(len(w0)):\n",
    "        for j in range(len(w1)):\n",
    "            losses[i][j] = compute_loss(y, tx, np.array([w0[i], w1[j]]))\n",
    "    return losses"
   ]
  },
  {
   "cell_type": "markdown",
   "metadata": {},
   "source": [
    "### Additional methods"
   ]
  },
  {
   "cell_type": "markdown",
   "metadata": {},
   "source": [
    "We label the results <0.5 to -1, and the rest to 1"
   ]
  },
  {
   "cell_type": "markdown",
   "metadata": {},
   "source": [
    "## Trying gradient descent"
   ]
  },
  {
   "cell_type": "code",
   "execution_count": 8,
   "metadata": {},
   "outputs": [
    {
     "name": "stdout",
     "output_type": "stream",
     "text": [
      "iter: 1000 loss: 0.08812854054945324\n",
      "[ 3.42668000e-01 -1.30529070e-01 -1.30246208e-01  1.09075034e-03\n",
      "  1.42045004e-01 -2.04334231e-02  1.16198254e-02 -9.67289464e-02\n",
      "  6.65218764e-02  9.42774527e-02 -4.53873789e-04 -4.30971803e-04\n",
      "  1.45339139e-01 -2.98119346e-04  1.15444953e-03  5.41900145e-02\n",
      "  4.19753041e-04 -3.51690664e-02  4.18130538e-02 -3.78248752e-02]\n"
     ]
    },
    {
     "data": {
      "text/plain": [
       "[<matplotlib.lines.Line2D at 0x26264d68198>]"
      ]
     },
     "execution_count": 8,
     "metadata": {},
     "output_type": "execute_result"
    },
    {
     "data": {
      "image/png": "[encoded data removed]",
      "text/plain": [
       "<Figure size 432x288 with 1 Axes>"
      ]
     },
     "metadata": {
      "needs_background": "light"
     },
     "output_type": "display_data"
    }
   ],
   "source": [
    "max_iters = 1000\n",
    "gamma = 0.15\n",
    "batch_size = 1\n",
    "\n",
    "losses, w = gradient_descent(Y, X_standardized, np.ones(X_standardized.shape[1]), max_iters, gamma, method)\n",
    "print(w)\n",
    "plt.plot(losses)"
   ]
  },
  {
   "cell_type": "code",
   "execution_count": 9,
   "metadata": {},
   "outputs": [
    {
     "name": "stdout",
     "output_type": "stream",
     "text": [
      "0.419312\n"
     ]
    }
   ],
   "source": [
    "Y_predicted = predict(X_standardized, w)\n",
    "Y_labeled = label_results(Y_predicted)\n",
    "print(performance(Y_labeled, label_results(Y)))\n",
    "# 0.735 for mse\n",
    "#0.74038 for cross-enthropy"
   ]
  },
  {
   "cell_type": "code",
   "execution_count": 10,
   "metadata": {},
   "outputs": [],
   "source": [
    "evaluate_performance(label_results(Y), Y_labeled)"
   ]
  },
  {
   "cell_type": "code",
   "execution_count": 11,
   "metadata": {},
   "outputs": [
    {
     "name": "stdout",
     "output_type": "stream",
     "text": [
      "threshold is: 0.0\n",
      "performance is: False\n",
      "threshold is: 0.01\n",
      "performance is: False\n",
      "threshold is: 0.02\n",
      "performance is: False\n",
      "threshold is: 0.03\n",
      "performance is: False\n",
      "threshold is: 0.04\n",
      "performance is: False\n",
      "threshold is: 0.05\n",
      "performance is: False\n",
      "threshold is: 0.06\n",
      "performance is: False\n",
      "threshold is: 0.07\n",
      "performance is: False\n",
      "threshold is: 0.08\n",
      "performance is: False\n",
      "threshold is: 0.09\n",
      "performance is: False\n",
      "threshold is: 0.1\n",
      "performance is: False\n",
      "threshold is: 0.11\n",
      "performance is: False\n",
      "threshold is: 0.12\n",
      "performance is: False\n",
      "threshold is: 0.13\n",
      "performance is: False\n",
      "threshold is: 0.14\n",
      "performance is: False\n",
      "threshold is: 0.15\n",
      "performance is: False\n",
      "threshold is: 0.16\n",
      "performance is: False\n",
      "threshold is: 0.17\n",
      "performance is: False\n",
      "threshold is: 0.18\n",
      "performance is: False\n",
      "threshold is: 0.19\n",
      "performance is: False\n",
      "threshold is: 0.2\n",
      "performance is: False\n",
      "threshold is: 0.21\n",
      "performance is: False\n",
      "threshold is: 0.22\n",
      "performance is: False\n",
      "threshold is: 0.23\n",
      "performance is: False\n",
      "threshold is: 0.24\n",
      "performance is: False\n",
      "threshold is: 0.25\n",
      "performance is: False\n",
      "threshold is: 0.26\n",
      "performance is: False\n",
      "threshold is: 0.27\n",
      "performance is: False\n",
      "threshold is: 0.28\n",
      "performance is: False\n",
      "threshold is: 0.29\n",
      "performance is: False\n",
      "threshold is: 0.3\n",
      "performance is: False\n",
      "threshold is: 0.31\n",
      "performance is: False\n",
      "threshold is: 0.32\n",
      "performance is: False\n",
      "threshold is: 0.33\n",
      "performance is: False\n",
      "threshold is: 0.34\n",
      "performance is: False\n",
      "threshold is: 0.35\n",
      "performance is: False\n",
      "threshold is: 0.36\n",
      "performance is: False\n",
      "threshold is: 0.37\n",
      "performance is: False\n",
      "threshold is: 0.38\n",
      "performance is: False\n",
      "threshold is: 0.39\n",
      "performance is: False\n",
      "threshold is: 0.4\n",
      "performance is: False\n",
      "threshold is: 0.41\n",
      "performance is: False\n",
      "threshold is: 0.42\n",
      "performance is: False\n",
      "threshold is: 0.43\n",
      "performance is: False\n",
      "threshold is: 0.44\n",
      "performance is: False\n",
      "threshold is: 0.45\n",
      "performance is: False\n",
      "threshold is: 0.46\n",
      "performance is: False\n",
      "threshold is: 0.47\n",
      "performance is: False\n",
      "threshold is: 0.48\n",
      "performance is: False\n",
      "threshold is: 0.49\n",
      "performance is: False\n",
      "threshold is: 0.5\n",
      "performance is: False\n",
      "threshold is: 0.51\n",
      "performance is: True\n",
      "threshold is: 0.52\n",
      "performance is: False\n",
      "threshold is: 0.53\n",
      "performance is: False\n",
      "threshold is: 0.54\n",
      "performance is: False\n",
      "threshold is: 0.55\n",
      "performance is: False\n",
      "threshold is: 0.56\n",
      "performance is: False\n",
      "threshold is: 0.57\n",
      "performance is: False\n",
      "threshold is: 0.58\n",
      "performance is: False\n",
      "threshold is: 0.59\n",
      "performance is: False\n",
      "threshold is: 0.6\n",
      "performance is: False\n",
      "threshold is: 0.61\n",
      "performance is: False\n",
      "threshold is: 0.62\n",
      "performance is: False\n",
      "threshold is: 0.63\n",
      "performance is: False\n",
      "threshold is: 0.64\n",
      "performance is: False\n",
      "threshold is: 0.65\n",
      "performance is: False\n",
      "threshold is: 0.66\n",
      "performance is: False\n",
      "threshold is: 0.67\n",
      "performance is: False\n",
      "threshold is: 0.68\n",
      "performance is: False\n",
      "threshold is: 0.69\n",
      "performance is: False\n",
      "threshold is: 0.7\n",
      "performance is: False\n",
      "threshold is: 0.71\n",
      "performance is: False\n",
      "threshold is: 0.72\n",
      "performance is: False\n",
      "threshold is: 0.73\n",
      "performance is: False\n",
      "threshold is: 0.74\n",
      "performance is: False\n",
      "threshold is: 0.75\n",
      "performance is: False\n",
      "threshold is: 0.76\n",
      "performance is: False\n",
      "threshold is: 0.77\n",
      "performance is: False\n",
      "threshold is: 0.78\n",
      "performance is: False\n",
      "threshold is: 0.79\n",
      "performance is: False\n",
      "threshold is: 0.8\n",
      "performance is: False\n",
      "threshold is: 0.81\n",
      "performance is: False\n",
      "threshold is: 0.82\n",
      "performance is: False\n",
      "threshold is: 0.83\n",
      "performance is: False\n",
      "threshold is: 0.84\n",
      "performance is: False\n",
      "threshold is: 0.85\n",
      "performance is: False\n",
      "threshold is: 0.86\n",
      "performance is: False\n",
      "threshold is: 0.87\n",
      "performance is: False\n",
      "threshold is: 0.88\n",
      "performance is: False\n",
      "threshold is: 0.89\n",
      "performance is: False\n",
      "threshold is: 0.9\n",
      "performance is: False\n",
      "threshold is: 0.91\n",
      "performance is: False\n",
      "threshold is: 0.92\n",
      "performance is: False\n",
      "threshold is: 0.93\n",
      "performance is: False\n",
      "threshold is: 0.94\n",
      "performance is: False\n",
      "threshold is: 0.95\n",
      "performance is: False\n",
      "threshold is: 0.96\n",
      "performance is: False\n",
      "threshold is: 0.97\n",
      "performance is: False\n",
      "threshold is: 0.98\n",
      "performance is: False\n",
      "threshold is: 0.99\n",
      "performance is: False\n",
      "best threshold is: 0.51\n",
      "best performance is: True\n"
     ]
    },
    {
     "data": {
      "text/plain": [
       "(0.51, True)"
      ]
     },
     "execution_count": 11,
     "metadata": {},
     "output_type": "execute_result"
    }
   ],
   "source": [
    "find_best_threshold(Y_predicted, label_results(Y))"
   ]
  },
  {
   "cell_type": "markdown",
   "metadata": {},
   "source": [
    "# Oversampling the signal class"
   ]
  },
  {
   "cell_type": "code",
   "execution_count": 12,
   "metadata": {},
   "outputs": [
    {
     "name": "stdout",
     "output_type": "stream",
     "text": [
      "(328666, 21)\n"
     ]
    }
   ],
   "source": [
    "all_data = np.column_stack([Y, X_standardized])\n",
    "distrib = np.bincount(all_data[:,0].astype(int))\n",
    "prob = 1/distrib[all_data[:, 0].astype(int)].astype(float)\n",
    "prob /= prob.sum()\n",
    "all_data = all_data[np.random.choice(np.arange(len(all_data)), size=np.count_nonzero(distrib)*distrib.max(), p=prob)]\n",
    "print(all_data.shape)"
   ]
  },
  {
   "cell_type": "markdown",
   "metadata": {},
   "source": [
    "### Rerunning the gradient descent with oversampled data"
   ]
  },
  {
   "cell_type": "code",
   "execution_count": 13,
   "metadata": {},
   "outputs": [
    {
     "name": "stdout",
     "output_type": "stream",
     "text": [
      "[ 4.60375827e-01 -1.41452515e-01 -1.63447572e-01  6.67669098e-03\n",
      "  1.77993604e-01 -1.58936954e-02  1.48860198e-02 -1.26581313e-01\n",
      "  7.43685689e-02  9.97462511e-02 -3.07667367e-04  2.00376535e-04\n",
      "  1.81002652e-01  6.17498771e-04  1.11624359e-03  5.09506306e-02\n",
      " -4.23289846e-04 -4.27646438e-02  5.46838246e-02 -4.32483634e-02]\n",
      "0.09403535512252727\n"
     ]
    },
    {
     "data": {
      "text/plain": [
       "[<matplotlib.lines.Line2D at 0x26211ddb6d8>]"
      ]
     },
     "execution_count": 13,
     "metadata": {},
     "output_type": "execute_result"
    },
    {
     "data": {
      "image/png": "[encoded data removed]",
      "text/plain": [
       "<Figure size 432x288 with 1 Axes>"
      ]
     },
     "metadata": {
      "needs_background": "light"
     },
     "output_type": "display_data"
    }
   ],
   "source": [
    "max_iters = 500\n",
    "gamma = 0.15\n",
    "batch_size = 1\n",
    "\n",
    "losses, w = gradient_descent(all_data[:,0], all_data[:,1:], np.ones(X_standardized.shape[1]), max_iters, gamma, method)\n",
    "print(w)\n",
    "print(losses[-1])\n",
    "plt.plot(losses)"
   ]
  },
  {
   "cell_type": "code",
   "execution_count": 14,
   "metadata": {},
   "outputs": [
    {
     "name": "stdout",
     "output_type": "stream",
     "text": [
      "0.380856\n"
     ]
    }
   ],
   "source": [
    "Y_predicted = predict(X_standardized, w)\n",
    "Y_labeled = label_results(Y_predicted)\n",
    "print(performance(Y_labeled, label_results(Y)))\n",
    "# 0.735 for mse\n",
    "#0.74038 for cross-enthropy\n",
    "evaluate_performance(label_results(Y), Y_labeled)"
   ]
  },
  {
   "cell_type": "markdown",
   "metadata": {},
   "source": [
    "## Load test data"
   ]
  },
  {
   "cell_type": "code",
   "execution_count": 15,
   "metadata": {},
   "outputs": [],
   "source": [
    "test_data = np.genfromtxt(testing_data, delimiter=',', skip_header=1)\n",
    "test_X = test_data[:, 2:]\n",
    "test_X_standardized = clean_and_standardize_features(test_X)"
   ]
  },
  {
   "cell_type": "code",
   "execution_count": 16,
   "metadata": {},
   "outputs": [],
   "source": [
    "test_predictions = label_results(predict(test_X_standardized, w))\n",
    "test_ids = range(350000,918238)"
   ]
  },
  {
   "cell_type": "code",
   "execution_count": 17,
   "metadata": {},
   "outputs": [],
   "source": [
    "test_results = np.column_stack([test_ids, test_predictions])\n",
    "suffix = time.time()\n",
    "np.savetxt('submission' + str(suffix) + '.csv', test_results, fmt=\"%d\", delimiter=\",\", header=\"Id,Prediction\", comments='')"
   ]
  }
 ],
 "metadata": {
  "kernelspec": {
   "display_name": "Python 3",
   "language": "python",
   "name": "python3"
  },
  "language_info": {
   "codemirror_mode": {
    "name": "ipython",
    "version": 3
   },
   "file_extension": ".py",
   "mimetype": "text/x-python",
   "name": "python",
   "nbconvert_exporter": "python",
   "pygments_lexer": "ipython3",
   "version": "3.7.3"
  }
 },
 "nbformat": 4,
 "nbformat_minor": 2
}
