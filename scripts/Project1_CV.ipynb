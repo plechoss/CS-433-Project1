{
 "cells": [
  {
   "cell_type": "code",
   "execution_count": 1,
   "metadata": {},
   "outputs": [],
   "source": [
    "# Useful starting lines\n",
    "%matplotlib inline\n",
    "import numpy as np\n",
    "import matplotlib.pyplot as plt\n",
    "import csv\n",
    "import math\n",
    "import time\n",
    "%load_ext autoreload\n",
    "%autoreload 2\n",
    "\n",
    "import pandas as pd\n",
    "import seaborn as sns\n",
    "\n",
    "from global_variables import *\n",
    "from data_preparation import * \n",
    "from cost import * \n",
    "from cross_validation import *\n",
    "from performances import * "
   ]
  },
  {
   "cell_type": "markdown",
   "metadata": {},
   "source": [
    "## Load the data "
   ]
  },
  {
   "cell_type": "code",
   "execution_count": 2,
   "metadata": {},
   "outputs": [],
   "source": [
    "X, Y = load_data()"
   ]
  },
  {
   "cell_type": "code",
   "execution_count": 3,
   "metadata": {
    "scrolled": true
   },
   "outputs": [
    {
     "name": "stdout",
     "output_type": "stream",
     "text": [
      "39.9652 31.0176 20.1516 8.8656\n"
     ]
    }
   ],
   "source": [
    "X0 = X[X[:,22]==0]\n",
    "X1 = X[X[:,22]==1]\n",
    "X2 = X[X[:,22]==2]\n",
    "X3 = X[X[:,22]==3]\n",
    "print(X0.shape[0]/X.shape[0] * 100, X1.shape[0]/X.shape[0] * 100, X2.shape[0]/X.shape[0] * 100, X3.shape[0]/X.shape[0] * 100)"
   ]
  },
  {
   "cell_type": "code",
   "execution_count": 4,
   "metadata": {
    "scrolled": true
   },
   "outputs": [
    {
     "name": "stdout",
     "output_type": "stream",
     "text": [
      "[ 26.1457468   0.          0.          0.        100.        100.\n",
      " 100.          0.          0.          0.          0.          0.\n",
      " 100.          0.          0.          0.          0.          0.\n",
      "   0.          0.          0.          0.          0.        100.\n",
      " 100.        100.        100.        100.        100.          0.       ]\n",
      "[  9.7518828   0.          0.          0.        100.        100.\n",
      " 100.          0.          0.          0.          0.          0.\n",
      " 100.          0.          0.          0.          0.          0.\n",
      "   0.          0.          0.          0.          0.          0.\n",
      "   0.          0.        100.        100.        100.          0.       ]\n",
      "[5.85958435 0.         0.         0.         0.         0.\n",
      " 0.         0.         0.         0.         0.         0.\n",
      " 0.         0.         0.         0.         0.         0.\n",
      " 0.         0.         0.         0.         0.         0.\n",
      " 0.         0.         0.         0.         0.         0.        ]\n",
      "[6.66395957 0.         0.         0.         0.         0.\n",
      " 0.         0.         0.         0.         0.         0.\n",
      " 0.         0.         0.         0.         0.         0.\n",
      " 0.         0.         0.         0.         0.         0.\n",
      " 0.         0.         0.         0.         0.         0.        ]\n"
     ]
    }
   ],
   "source": [
    "invalids0 = np.count_nonzero(X0 == -999, axis=0)\n",
    "print(invalids0/X0.shape[0] * 100)\n",
    "\n",
    "invalids1 = np.count_nonzero(X1 == -999, axis=0)\n",
    "print(invalids1/X1.shape[0] * 100)\n",
    "\n",
    "invalids2 = np.count_nonzero(X2 == -999, axis=0)\n",
    "print(invalids2/X2.shape[0] * 100)\n",
    "\n",
    "invalids3 = np.count_nonzero(X3 == -999, axis=0)\n",
    "print(invalids3/X3.shape[0] * 100)"
   ]
  },
  {
   "cell_type": "markdown",
   "metadata": {},
   "source": [
    "## Doing cross-validation to evaluate the different models"
   ]
  },
  {
   "cell_type": "code",
   "execution_count": 5,
   "metadata": {},
   "outputs": [],
   "source": [
    "# Testing all methods without pre-processing\n",
    "k = 10 # ten fold CV\n",
    "k_fold = k \n",
    "y = Y \n",
    "x = X\n",
    "seed = 20\n",
    "k_indices = build_k_indices(y, k_fold, seed)"
   ]
  },
  {
   "cell_type": "markdown",
   "metadata": {},
   "source": [
    "### Least squares normal eq"
   ]
  },
  {
   "cell_type": "code",
   "execution_count": 6,
   "metadata": {},
   "outputs": [
    {
     "name": "stdout",
     "output_type": "stream",
     "text": [
      "0.14357066574693128 1.5762202551039412e-08\n"
     ]
    }
   ],
   "source": [
    "method = 'least-squares'\n",
    "err_cv_tr, err_cv_te = cross_validation(y, x, k_indices, k, method, initial_w = None, batch_size =1, max_iters = 1, gamma = 0 , lambda_ = 0)\n",
    "print(np.mean(err_cv_tr), np.var(err_cv_tr))"
   ]
  },
  {
   "cell_type": "markdown",
   "metadata": {},
   "source": [
    "### Least squares GD "
   ]
  },
  {
   "cell_type": "code",
   "execution_count": 7,
   "metadata": {},
   "outputs": [
    {
     "name": "stdout",
     "output_type": "stream",
     "text": [
      "2.03517588710915 2.054764826565965e-06\n"
     ]
    }
   ],
   "source": [
    "method = 'least-squares-GD'\n",
    "max_iters = 50\n",
    "gamma = 0.01\n",
    "batch_size = 1\n",
    "initial_w = None\n",
    "err_cv_tr, err_cv_te = cross_validation(y, x, k_indices, k, method, initial_w, batch_size, max_iters, gamma)\n",
    "print(np.mean(err_cv_tr), np.var(err_cv_tr))"
   ]
  },
  {
   "cell_type": "markdown",
   "metadata": {},
   "source": [
    "### Least-squares SGD  "
   ]
  },
  {
   "cell_type": "code",
   "execution_count": 8,
   "metadata": {
    "scrolled": true
   },
   "outputs": [
    {
     "name": "stdout",
     "output_type": "stream",
     "text": [
      "1.6592329031661646 0.8999233018292113\n"
     ]
    }
   ],
   "source": [
    "method = 'least-squares-SGD' \n",
    "err_cv_tr, err_cv_te = cross_validation(y, x, k_indices, k, method, initial_w, batch_size, max_iters, gamma)\n",
    "print(np.mean(err_cv_tr), np.var(err_cv_tr))"
   ]
  },
  {
   "cell_type": "markdown",
   "metadata": {},
   "source": [
    "### Ridge-regression"
   ]
  },
  {
   "cell_type": "code",
   "execution_count": 9,
   "metadata": {},
   "outputs": [
    {
     "name": "stdout",
     "output_type": "stream",
     "text": [
      "0.16009767629944566 1.6876341250484806e-08\n"
     ]
    }
   ],
   "source": [
    "method = 'ridge-regression'\n",
    "lambda_ = 1\n",
    "err_cv_tr, err_cv_te = cross_validation(y, x, k_indices, k, method, initial_w, batch_size, max_iters, gamma, lambda_)\n",
    "print(np.mean(err_cv_tr), np.var(err_cv_tr))"
   ]
  },
  {
   "cell_type": "markdown",
   "metadata": {},
   "source": [
    "### Log regression "
   ]
  },
  {
   "cell_type": "code",
   "execution_count": 10,
   "metadata": {
    "scrolled": true
   },
   "outputs": [
    {
     "name": "stderr",
     "output_type": "stream",
     "text": [
      "C:\\Users\\clara\\OneDrive\\Documents\\ML_project1\\CS-433-Project1\\scripts\\cost.py:161: RuntimeWarning: divide by zero encountered in log\n",
      "  loss = - (y.T @ np.log(predictions) + (1-y).T @ np.log(1-predictions))\n",
      "C:\\Users\\clara\\OneDrive\\Documents\\ML_project1\\CS-433-Project1\\scripts\\cost.py:161: RuntimeWarning: invalid value encountered in matmul\n",
      "  loss = - (y.T @ np.log(predictions) + (1-y).T @ np.log(1-predictions))\n"
     ]
    },
    {
     "name": "stdout",
     "output_type": "stream",
     "text": [
      "nan nan\n"
     ]
    }
   ],
   "source": [
    "method = 'log'\n",
    "initial_w = np.zeros(x.shape[1])\n",
    "err_cv_tr, err_cv_te = cross_validation(y, x, k_indices, k, method, initial_w, batch_size, max_iters, gamma, lambda_)\n",
    "print(np.mean(err_cv_tr), np.var(err_cv_tr))"
   ]
  },
  {
   "cell_type": "code",
   "execution_count": 11,
   "metadata": {},
   "outputs": [
    {
     "name": "stderr",
     "output_type": "stream",
     "text": [
      "C:\\Users\\clara\\OneDrive\\Documents\\ML_project1\\CS-433-Project1\\scripts\\cost.py:164: RuntimeWarning: divide by zero encountered in log\n",
      "  loss = - (y.T @ np.log(predictions) + (1-y).T @ np.log(1-predictions)) + lambda_ * w.T @ w\n",
      "C:\\Users\\clara\\OneDrive\\Documents\\ML_project1\\CS-433-Project1\\scripts\\cost.py:164: RuntimeWarning: invalid value encountered in matmul\n",
      "  loss = - (y.T @ np.log(predictions) + (1-y).T @ np.log(1-predictions)) + lambda_ * w.T @ w\n"
     ]
    },
    {
     "name": "stdout",
     "output_type": "stream",
     "text": [
      "nan nan\n"
     ]
    }
   ],
   "source": [
    "method = 'regularized-log'\n",
    "initial_w = np.zeros(x.shape[1])\n",
    "err_cv_tr, err_cv_te = cross_validation(y, x, k_indices, k, method, initial_w, batch_size, max_iters, gamma, lambda_)\n",
    "print(np.mean(err_cv_tr), np.var(err_cv_tr))"
   ]
  },
  {
   "cell_type": "markdown",
   "metadata": {},
   "source": [
    "## Optimizing models with cross-validation"
   ]
  },
  {
   "cell_type": "code",
   "execution_count": 12,
   "metadata": {
    "scrolled": true
   },
   "outputs": [
    {
     "name": "stdout",
     "output_type": "stream",
     "text": [
      "0.0001\n"
     ]
    }
   ],
   "source": [
    "method = 'ridge-regression'\n",
    "lambdas = np.logspace(-4, 0, 30)\n",
    "err_lambda = np.empty(len(lambdas))\n",
    "for index_lambda, lambda_ in enumerate(lambdas):\n",
    "    err_cv_tr, err_cv_val = cross_validation(y, x, k_indices, k, method, initial_w, batch_size, max_iters, gamma, lambda_)\n",
    "    err_lambda[index_lambda] = np.mean(err_cv_val) \n",
    "best_lambda = lambdas[np.argmin(err_lambda)]\n",
    "# The code should also provide the corresponding error values \n",
    "print(best_lambda)    "
   ]
  },
  {
   "cell_type": "code",
   "execution_count": 13,
   "metadata": {},
   "outputs": [
    {
     "name": "stdout",
     "output_type": "stream",
     "text": [
      "0.14372634577696095 1.5447761705408536e-08\n"
     ]
    }
   ],
   "source": [
    "method = 'ridge-regression'\n",
    "lambda_ = best_lambda\n",
    "err_cv_tr, err_cv_te = cross_validation(y, x, k_indices, k, method, initial_w, batch_size, max_iters, gamma, lambda_)\n",
    "print(np.mean(err_cv_tr), np.var(err_cv_tr))"
   ]
  }
 ],
 "metadata": {
  "kernelspec": {
   "display_name": "Python 3",
   "language": "python",
   "name": "python3"
  },
  "language_info": {
   "codemirror_mode": {
    "name": "ipython",
    "version": 3
   },
   "file_extension": ".py",
   "mimetype": "text/x-python",
   "name": "python",
   "nbconvert_exporter": "python",
   "pygments_lexer": "ipython3",
   "version": "3.7.3"
  }
 },
 "nbformat": 4,
 "nbformat_minor": 2
}
