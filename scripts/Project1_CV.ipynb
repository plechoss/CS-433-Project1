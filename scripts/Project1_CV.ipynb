{
 "cells": [
  {
   "cell_type": "code",
   "execution_count": 1,
   "metadata": {},
   "outputs": [],
   "source": [
    "# Useful starting lines\n",
    "%matplotlib inline\n",
    "import numpy as np\n",
    "import matplotlib.pyplot as plt\n",
    "import csv\n",
    "import math\n",
    "import time\n",
    "%load_ext autoreload\n",
    "%autoreload 2\n",
    "\n",
    "import pandas as pd\n",
    "import seaborn as sns\n",
    "\n",
    "from global_variables import *\n",
    "from data_preparation import * \n",
    "from cost import * \n",
    "from cross_validation import *\n",
    "from performances import * \n",
    "from proj1_helpers import * "
   ]
  },
  {
   "cell_type": "markdown",
   "metadata": {},
   "source": [
    "## Load the data "
   ]
  },
  {
   "cell_type": "code",
   "execution_count": null,
   "metadata": {},
   "outputs": [],
   "source": [
    "X, Y = load_data()"
   ]
  },
  {
   "cell_type": "markdown",
   "metadata": {},
   "source": [
    "## Comparing performances for least-squares, Ridge-regression and logistic-regression Newton"
   ]
  },
  {
   "cell_type": "markdown",
   "metadata": {},
   "source": [
    "### Without pre-processing"
   ]
  },
  {
   "cell_type": "code",
   "execution_count": null,
   "metadata": {},
   "outputs": [],
   "source": [
    "k = 10 # ten fold CV\n",
    "k_fold = k \n",
    "y = Y \n",
    "x = X\n",
    "seed = 20\n",
    "k_indices = build_k_indices(y, k_fold, seed)\n",
    "clean_method = 'raw'"
   ]
  },
  {
   "cell_type": "code",
   "execution_count": null,
   "metadata": {},
   "outputs": [],
   "source": [
    "method = 'least-squares'\n",
    "err_cv_tr_ls, err_cv_te_ls, accuracy = cross_validation(y, x, k_indices, k, method, 1,  1,  0 , 0, clean_method)\n",
    "print(np.mean(err_cv_tr_ls), np.var(err_cv_tr_ls), accuracy)"
   ]
  },
  {
   "cell_type": "code",
   "execution_count": null,
   "metadata": {},
   "outputs": [],
   "source": [
    "method = 'ridge-regression'\n",
    "lambdas = np.logspace(-10, -8, 30) # Range through \"dichotomous\" search\n",
    "err_lambda = np.empty(len(lambdas))\n",
    "for index_lambda, lambda_ in enumerate(lambdas):\n",
    "    _, err_cv_val, accuracy = cross_validation(y, x, k_indices, k, method, batch_size, max_iters, gamma, lambda_, clean_method)\n",
    "    err_lambda[index_lambda] = np.mean(err_cv_val) \n",
    "# best_lambda chosen to minimize the mean generalization error\n",
    "best_lambda = lambdas[np.argmin(err_lambda)]\n",
    "# The code should also provide the corresponding error values \n",
    "print(best_lambda)    "
   ]
  },
  {
   "cell_type": "code",
   "execution_count": null,
   "metadata": {},
   "outputs": [],
   "source": [
    "# Probably would be smarter to get the errors directly above ...\n",
    "method = 'ridge-regression'\n",
    "lambda_ = best_lambda\n",
    "err_cv_tr_ridge, err_cv_te_ridge, accuracy = cross_validation(y, x, k_indices, k, method, batch_size, max_iters, gamma, lambda_, clean_method)\n",
    "print(np.mean(err_cv_tr_ridge), np.var(err_cv_tr_ridge), accuracy)"
   ]
  },
  {
   "cell_type": "code",
   "execution_count": null,
   "metadata": {},
   "outputs": [],
   "source": [
    "max_iters= 10\n",
    "method = 'log-newton'\n",
    "gammas = np.logspace(-10, 0, 30)\n",
    "err_gamma = np.empty(len(gammas))\n",
    "for index_gamma, gamma in enumerate(gammas):\n",
    "    _, err_cv_val, accuracy = cross_validation(y, x, k_indices, k, method, 1, max_iters, gamma, lambda_, clean_method)\n",
    "    err_gamma[index_gamma] = np.mean(err_cv_val) \n",
    "# best_gamma chosen to minimize the mean generalization error\n",
    "best_gamma = gammas[np.argmin(err_gamma)]\n",
    "# The code should also provide the corresponding error values \n",
    "print(best_gamma)    "
   ]
  },
  {
   "cell_type": "code",
   "execution_count": null,
   "metadata": {},
   "outputs": [],
   "source": [
    "# Probably would be smarter to get the errors directly above ...\n",
    "gamma = best_gamma\n",
    "err_cv_tr_newton, err_cv_te, accuracy = cross_validation(y, x, k_indices, k, method, batch_size, max_iters, gamma, lambda_, clean_method)\n",
    "print(np.mean(err_cv_tr_newton), np.var(err_cv_tr_newton), accuracy)"
   ]
  },
  {
   "cell_type": "code",
   "execution_count": null,
   "metadata": {},
   "outputs": [],
   "source": [
    "## TO DO : \n",
    "# Do it for clean_method in ['raw', '', '0', 'mean', 'media']\n",
    "# for all 3 methods ('least-squares', 'ridge-regression', 'log-newton')\n",
    "# Add the accuracy\n",
    "# Write a script working for all hyper-parameters (gamma for newton et lambda for ridge) ?! \n"
   ]
  },
  {
   "cell_type": "markdown",
   "metadata": {},
   "source": [
    "## Checking if all functions work well but not to be included "
   ]
  },
  {
   "cell_type": "code",
   "execution_count": null,
   "metadata": {},
   "outputs": [],
   "source": [
    "k = 10 # ten fold CV\n",
    "k_fold = k \n",
    "y = Y \n",
    "x = X\n",
    "seed = 20\n",
    "k_indices = build_k_indices(y, k_fold, seed)"
   ]
  },
  {
   "cell_type": "code",
   "execution_count": null,
   "metadata": {},
   "outputs": [],
   "source": [
    "# Variable to decide on cleaning method ( see function clean_features)\n",
    "clean_method = 'median'"
   ]
  },
  {
   "cell_type": "markdown",
   "metadata": {},
   "source": [
    "### Least squares normal eq"
   ]
  },
  {
   "cell_type": "code",
   "execution_count": null,
   "metadata": {},
   "outputs": [],
   "source": [
    "method = 'least-squares'\n",
    "err_cv_tr, err_cv_te, accuracy = cross_validation(y, x, k_indices, k, method, 1,  1,  0 , 0, clean_method)\n",
    "print(np.mean(err_cv_tr), np.var(err_cv_tr), accuracy)"
   ]
  },
  {
   "cell_type": "markdown",
   "metadata": {},
   "source": [
    "### Least squares GD "
   ]
  },
  {
   "cell_type": "code",
   "execution_count": null,
   "metadata": {},
   "outputs": [],
   "source": [
    "method = 'least-squares-GD'\n",
    "max_iters = 50\n",
    "gamma = 0.01\n",
    "batch_size = 1\n",
    "lambda_ = 0\n",
    "err_cv_tr, err_cv_te, accuracy = cross_validation(y, x, k_indices, k, method, batch_size, max_iters, gamma, lambda_, clean_method)\n",
    "print(np.mean(err_cv_tr), np.var(err_cv_tr), accuracy)"
   ]
  },
  {
   "cell_type": "markdown",
   "metadata": {},
   "source": [
    "### Least-squares SGD  "
   ]
  },
  {
   "cell_type": "code",
   "execution_count": null,
   "metadata": {
    "scrolled": true
   },
   "outputs": [],
   "source": [
    "method = 'least-squares-SGD' \n",
    "err_cv_tr, err_cv_te, accuracy = cross_validation(y, x, k_indices, k, method, batch_size, max_iters, gamma, lambda_, clean_method)\n",
    "print(np.mean(err_cv_tr), np.var(err_cv_tr), accuracy)"
   ]
  },
  {
   "cell_type": "markdown",
   "metadata": {},
   "source": [
    "### Ridge-regression"
   ]
  },
  {
   "cell_type": "code",
   "execution_count": null,
   "metadata": {},
   "outputs": [],
   "source": [
    "method = 'ridge-regression'\n",
    "lambda_ = 1\n",
    "err_cv_tr, err_cv_te, accuracy = cross_validation(y, x, k_indices, k, method, batch_size, max_iters, gamma, lambda_, clean_method)\n",
    "print(np.mean(err_cv_tr), np.var(err_cv_tr), accuracy)"
   ]
  },
  {
   "cell_type": "markdown",
   "metadata": {},
   "source": [
    "### Log regression "
   ]
  },
  {
   "cell_type": "code",
   "execution_count": null,
   "metadata": {
    "scrolled": true
   },
   "outputs": [],
   "source": [
    "method = 'log'\n",
    "err_cv_tr, err_cv_te, accuracy = cross_validation(y, x, k_indices, k, method, batch_size, max_iters, gamma, lambda_, clean_method)\n",
    "print(np.mean(err_cv_tr), np.var(err_cv_tr), accuracy)"
   ]
  },
  {
   "cell_type": "code",
   "execution_count": null,
   "metadata": {},
   "outputs": [],
   "source": [
    "method = 'regularized-log'\n",
    "err_cv_tr, err_cv_te, accuracy = cross_validation(y, x, k_indices, k, method, batch_size, max_iters, gamma, lambda_, clean_method)\n",
    "print(np.mean(err_cv_tr), np.var(err_cv_tr), accuracy)"
   ]
  },
  {
   "cell_type": "code",
   "execution_count": null,
   "metadata": {},
   "outputs": [],
   "source": [
    "method = 'log-newton'\n",
    "err_cv_tr, err_cv_te, accuracy = cross_validation(y, x, k_indices, k, method, batch_size, max_iters, gamma, lambda_, clean_method)\n",
    "print(np.mean(err_cv_tr), np.var(err_cv_tr), accuracy)"
   ]
  },
  {
   "cell_type": "markdown",
   "metadata": {},
   "source": [
    "## Optimizing models with cross-validation"
   ]
  },
  {
   "cell_type": "code",
   "execution_count": null,
   "metadata": {
    "scrolled": true
   },
   "outputs": [
    {
     "name": "stdout",
     "output_type": "stream",
     "text": [
      "L: 0  1e-05\n",
      "G: 0  1e-20\n",
      "1.334083679995146\n",
      "0.63732\n",
      "G: 1  6.812920690579594e-19\n",
      "1.3896232079883268\n",
      "0.63452\n",
      "G: 2  4.6415888336127915e-17\n",
      "1.3235079688244678\n",
      "0.64688\n",
      "G: 3  3.1622776601683794e-15\n",
      "1.334666427045938\n",
      "0.62844\n",
      "G: 4  2.154434690031878e-13\n",
      "1.4139273031236523\n",
      "0.63384\n",
      "G: 5  1.4677992676220676e-11\n",
      "1.3103149777789938\n",
      "0.6392\n",
      "G: 6  1e-09\n",
      "1.3788497132209465\n",
      "0.63776\n",
      "G: 7  6.812920690579594e-08\n",
      "1.3985606213192072\n",
      "0.63004\n",
      "G: 8  4.641588833612773e-06\n",
      "1.3058494780947647\n",
      "0.63156\n",
      "G: 9  0.00031622776601683794\n",
      "1.4006873461660843\n",
      "0.6318\n",
      "G: 10  0.021544346900318777\n",
      "1.7803239305650482\n",
      "0.63504\n",
      "G: 11  1.4677992676220615\n",
      "4.6434891224379395\n",
      "0.60944\n",
      "G: 12  100.0\n",
      "4.585964258206543\n",
      "0.60976\n",
      "L: 1  0.00013894954943731373\n",
      "G: 0  1e-20\n",
      "1.3190401480150595\n",
      "0.63156\n",
      "G: 1  6.812920690579594e-19\n",
      "1.3136751053047582\n",
      "0.63456\n",
      "G: 2  4.6415888336127915e-17\n",
      "1.323269815714609\n",
      "0.63168\n",
      "G: 3  3.1622776601683794e-15\n",
      "1.37062609698761\n",
      "0.62128\n",
      "G: 4  2.154434690031878e-13\n",
      "1.3431545547722046\n",
      "0.63668\n",
      "G: 5  1.4677992676220676e-11\n",
      "1.421128786434784\n",
      "0.62252\n",
      "G: 6  1e-09\n",
      "1.3183881593322866\n",
      "0.64248\n",
      "G: 7  6.812920690579594e-08\n",
      "1.3073328508681903\n",
      "0.63424\n",
      "G: 8  4.641588833612773e-06\n",
      "1.2843051299704717\n",
      "0.63208\n",
      "G: 9  0.00031622776601683794\n",
      "1.3576533028675408\n",
      "0.63636\n",
      "G: 10  0.021544346900318777\n",
      "1.7671590044083636\n",
      "0.61284\n",
      "G: 11  1.4677992676220615\n",
      "4.539416396239446\n",
      "0.60008\n",
      "G: 12  100.0\n",
      "4.828928554902376\n",
      "0.60884\n",
      "L: 2  0.0019306977288832496\n",
      "G: 0  1e-20\n",
      "1.321779573072998\n",
      "0.63576\n",
      "G: 1  6.812920690579594e-19\n",
      "1.3416194314209122\n",
      "0.62536\n",
      "G: 2  4.6415888336127915e-17\n",
      "1.4087208580728858\n",
      "0.62696\n",
      "G: 3  3.1622776601683794e-15\n",
      "1.308356061848483\n",
      "0.63192\n",
      "G: 4  2.154434690031878e-13\n",
      "1.4120694939786074\n",
      "0.63212\n",
      "G: 5  1.4677992676220676e-11\n",
      "1.2966576530382654\n",
      "0.64424\n",
      "G: 6  1e-09\n",
      "1.3620779787860393\n",
      "0.63204\n",
      "G: 7  6.812920690579594e-08\n",
      "1.3074206631683531\n",
      "0.6434\n",
      "G: 8  4.641588833612773e-06\n",
      "1.291714472583419\n",
      "0.62544\n",
      "G: 9  0.00031622776601683794\n",
      "1.3535597675149886\n",
      "0.62708\n",
      "G: 10  0.021544346900318777\n",
      "1.7776452875591855\n",
      "0.63052\n",
      "G: 11  1.4677992676220615\n",
      "4.512585740848425\n",
      "0.61004\n",
      "G: 12  100.0\n",
      "8.17959939916552\n",
      "0.60828\n",
      "L: 3  0.026826957952797246\n",
      "G: 0  1e-20\n",
      "1.3468603128364385\n",
      "0.64444\n",
      "G: 1  6.812920690579594e-19\n",
      "1.2834126672958601\n",
      "0.63324\n",
      "G: 2  4.6415888336127915e-17\n",
      "1.3484178505686848\n",
      "0.6382\n",
      "G: 3  3.1622776601683794e-15\n",
      "1.3123633933782197\n",
      "0.63016\n",
      "G: 4  2.154434690031878e-13\n",
      "1.317340804092292\n",
      "0.62412\n",
      "G: 5  1.4677992676220676e-11\n",
      "1.312132153357278\n",
      "0.64056\n",
      "G: 6  1e-09\n",
      "1.3261225592402277\n",
      "0.64544\n",
      "G: 7  6.812920690579594e-08\n",
      "1.2982778687794825\n",
      "0.6322\n",
      "G: 8  4.641588833612773e-06\n",
      "1.3178832560977178\n",
      "0.64896\n",
      "G: 9  0.00031622776601683794\n",
      "1.336291055052991\n",
      "0.62116\n",
      "G: 10  0.021544346900318777\n",
      "1.8226210407554546\n",
      "0.6222\n",
      "G: 11  1.4677992676220615\n",
      "4.6332422482350655\n",
      "0.47848\n",
      "G: 12  100.0\n",
      "53.91055762452413\n",
      "0.60588\n",
      "L: 4  0.3727593720314938\n",
      "G: 0  1e-20\n",
      "1.3130602424035929\n",
      "0.63112\n",
      "G: 1  6.812920690579594e-19\n",
      "1.336499201226373\n",
      "0.64336\n",
      "G: 2  4.6415888336127915e-17\n",
      "1.308020654951136\n",
      "0.65176\n",
      "G: 3  3.1622776601683794e-15\n",
      "1.3696288600571376\n",
      "0.637\n",
      "G: 4  2.154434690031878e-13\n",
      "1.3135409823416548\n",
      "0.6424\n",
      "G: 5  1.4677992676220676e-11\n",
      "1.3298406561523706\n",
      "0.63848\n",
      "G: 6  1e-09\n",
      "1.358857682815599\n",
      "0.63236\n",
      "G: 7  6.812920690579594e-08\n",
      "1.3575152485160857\n",
      "0.63224\n",
      "G: 8  4.641588833612773e-06\n",
      "1.3969188606435599\n",
      "0.6216\n",
      "G: 9  0.00031622776601683794\n",
      "1.3655134064552046\n",
      "0.63308\n",
      "G: 10  0.021544346900318777\n",
      "1.7854273415474857\n",
      "0.63728\n",
      "G: 11  1.4677992676220615\n",
      "4.649341655222469\n",
      "0.59076\n",
      "G: 12  100.0\n",
      "669.138229203842\n",
      "0.6086\n",
      "L: 5  5.179474679231202\n",
      "G: 0  1e-20\n",
      "1.358700984233187\n",
      "0.63656\n",
      "G: 1  6.812920690579594e-19\n",
      "1.3090052528144298\n",
      "0.63808\n",
      "G: 2  4.6415888336127915e-17\n"
     ]
    }
   ],
   "source": [
    "# CV testing gamma and lambda inside same loop\n",
    "\n",
    "X, Y = load_data()\n",
    "k = 10 # ten fold CV\n",
    "k_fold = k \n",
    "y = Y \n",
    "x = X\n",
    "seed = 20\n",
    "k_indices = build_k_indices(y, k_fold, seed)\n",
    "clean_method = '0'\n",
    "batch_size = 1\n",
    "max_iters = 100\n",
    "\n",
    "method = 'regularized-log'\n",
    "lambdas = np.logspace(-5, 3, 8)\n",
    "#lambdas = [0]\n",
    "gammas = np.logspace(-20, 2, 13)\n",
    "err = np.empty([len(lambdas), len(gammas)])\n",
    "acc = np.empty([len(lambdas), len(gammas)])\n",
    "for index_lambda, lambda_ in enumerate(lambdas):\n",
    "    print(\"L: \" + str(index_lambda) + \"  \"+str(lambda_))\n",
    "    for index_gamma, gamma in enumerate(gammas):\n",
    "        print(\"G: \" + str(index_gamma) + \"  \"+ str(gamma))\n",
    "        err_cv_tr, err_cv_val, accuracy = cross_validation(y, x, k_indices, k, method, batch_size, max_iters, gamma, lambda_, clean_method)\n",
    "        err[index_lambda, index_gamma] = np.mean(err_cv_val)\n",
    "        print(np.mean(err_cv_val))\n",
    "        acc[index_lambda, index_gamma] = accuracy\n",
    "        print(accuracy)\n",
    "print(err)\n",
    "print(acc)\n",
    "best_combination = np.argwhere(err == np.min(err))\n",
    "print(\"least error where :\" + str(best_combination))\n",
    "best_acc = np.argwhere(acc == np.max(acc))\n",
    "print(\"highest accuracy where :\" + str(best_acc))\n",
    "best_lambda = lambdas[best_combination[0][0]]\n",
    "best_gamma = gammas[best_combination[0][1]]\n",
    "# The code should also provide the corresponding error values \n",
    "print(\"Best lambda: \" + str(best_lambda))\n",
    "print(\"Best gamma: \" + str(best_gamma))\n"
   ]
  },
  {
   "cell_type": "code",
   "execution_count": null,
   "metadata": {},
   "outputs": [],
   "source": [
    "method = 'ridge-regression'\n",
    "lambda_ = best_lambda\n",
    "err_cv_tr, err_cv_te, accuracy = cross_validation(y, x, k_indices, k, method, batch_size, max_iters, gamma, lambda_, clean_method)\n",
    "print(np.mean(err_cv_tr), np.var(err_cv_tr), accuracy)"
   ]
  }
 ],
 "metadata": {
  "kernelspec": {
   "display_name": "Python 3",
   "language": "python",
   "name": "python3"
  },
  "language_info": {
   "codemirror_mode": {
    "name": "ipython",
    "version": 3
   },
   "file_extension": ".py",
   "mimetype": "text/x-python",
   "name": "python",
   "nbconvert_exporter": "python",
   "pygments_lexer": "ipython3",
   "version": "3.7.3"
  }
 },
 "nbformat": 4,
 "nbformat_minor": 2
}
