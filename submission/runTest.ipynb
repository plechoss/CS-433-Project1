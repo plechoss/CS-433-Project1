{
 "cells": [
  {
   "cell_type": "code",
   "execution_count": 3,
   "metadata": {},
   "outputs": [
    {
     "name": "stdout",
     "output_type": "stream",
     "text": [
      "Method: raw\n",
      "(0.51, 0.813076)\n",
      "Method: mean\n",
      "(0.5, 0.813836)\n",
      "Method: median\n",
      "(0.5, 0.814508)\n",
      "Method: 0\n",
      "(0.5, 0.814212)\n"
     ]
    }
   ],
   "source": [
    "\"\"\" Complete code generating best submission to AIcrowd challenge \"\"\"\n",
    "# Useful starting lines\n",
    "import numpy as np\n",
    "import csv\n",
    "\n",
    "from global_variables import *\n",
    "from data_preparation import * \n",
    "from cross_validation import *\n",
    "from performances import * \n",
    "from proj1_helpers import *\n",
    "from implementations import *\n",
    "\n",
    "X, Y = load_data()\n",
    "\n",
    "jet_values = np.unique(X[:,22])\n",
    "masks = {}\n",
    "\n",
    "for method in ['raw','mean','median','0']:\n",
    "    X_divided = {}\n",
    "    Y_divided = {}\n",
    "    W = {}\n",
    "    X_1, X_2 = clean_features(X, X, method)\n",
    "    \n",
    "    for value in jet_values:\n",
    "        masks[value] = (X_1[:,22]==value)\n",
    "        X_temp = preprocX(X_1[masks[value]], X_1)\n",
    "        X_divided[value] = X_temp\n",
    "        Y_temp = Y[masks[value]]\n",
    "        Y_divided[value] = Y_temp\n",
    "        W[value], loss = least_squares(Y_temp, X_temp)\n",
    "\n",
    "    pred_div = predict_with_divided_W(X_1, W, X_1)\n",
    "    perf = performance(Y,pred_div)\n",
    "    print('Method: ' + method)\n",
    "    print(perf)\n",
    "\n",
    "\n",
    "test_data = np.genfromtxt(testing_data, delimiter=',', skip_header=1)\n",
    "test_X = test_data[:, 2:]\n",
    "test_ids = range(350000,918238)\n",
    "\n",
    "predictions = predict_with_divided_W(test_X, W, X)\n",
    "\n",
    "test_predictions = label_results(predictions)\n",
    "test_results = np.column_stack([test_ids, test_predictions])\n",
    "\n",
    "#np.savetxt('submission.csv', test_results, fmt=\"%d\", delimiter=\",\", header=\"Id,Prediction\", comments='')"
   ]
  },
  {
   "cell_type": "code",
   "execution_count": null,
   "metadata": {},
   "outputs": [],
   "source": []
  }
 ],
 "metadata": {
  "kernelspec": {
   "display_name": "Python 3",
   "language": "python",
   "name": "python3"
  },
  "language_info": {
   "codemirror_mode": {
    "name": "ipython",
    "version": 3
   },
   "file_extension": ".py",
   "mimetype": "text/x-python",
   "name": "python",
   "nbconvert_exporter": "python",
   "pygments_lexer": "ipython3",
   "version": "3.7.1"
  }
 },
 "nbformat": 4,
 "nbformat_minor": 2
}
