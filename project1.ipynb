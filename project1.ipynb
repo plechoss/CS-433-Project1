{
 "cells": [
  {
   "cell_type": "code",
   "execution_count": 2,
   "metadata": {},
   "outputs": [],
   "source": [
    "# Useful starting lines\n",
    "%matplotlib inline\n",
    "import numpy as np\n",
    "import matplotlib.pyplot as plt\n",
    "import csv\n",
    "import math\n",
    "import time\n",
    "%load_ext autoreload\n",
    "%autoreload 2"
   ]
  },
  {
   "cell_type": "markdown",
   "metadata": {},
   "source": [
    "### Global variables"
   ]
  },
  {
   "cell_type": "code",
   "execution_count": 54,
   "metadata": {},
   "outputs": [],
   "source": [
    "data_folder = 'data/'\n",
    "training_data = data_folder + 'train.csv'\n",
    "testing_data = data_folder + 'test.csv'\n",
    "\n",
    "methods = ['mse', 'mae', 'cross-enthropy', 'ridge-regression']\n",
    "method = methods[3]\n",
    "\n",
    "pos_weight = 1"
   ]
  },
  {
   "cell_type": "markdown",
   "metadata": {},
   "source": [
    "# Load the data"
   ]
  },
  {
   "cell_type": "markdown",
   "metadata": {},
   "source": [
    "We map the 'b' and 's' labels to 0 and 1 respectively."
   ]
  },
  {
   "cell_type": "code",
   "execution_count": 4,
   "metadata": {},
   "outputs": [],
   "source": [
    "def load_data():\n",
    "    Y = np.genfromtxt(training_data, delimiter=',', dtype=None, skip_header=1, usecols=[1], converters={1: lambda x: 0 if b'b'==x else 1})\n",
    "    \n",
    "    data = np.genfromtxt(training_data, delimiter=',', skip_header=1)\n",
    "    X = data[:, 2:]\n",
    "    \n",
    "    return X, Y"
   ]
  },
  {
   "cell_type": "code",
   "execution_count": 5,
   "metadata": {},
   "outputs": [],
   "source": [
    "X, Y = load_data()"
   ]
  },
  {
   "cell_type": "markdown",
   "metadata": {},
   "source": [
    "## Clean and standardize the features"
   ]
  },
  {
   "cell_type": "markdown",
   "metadata": {},
   "source": [
    "### Counting the number of invalid datapoints per column"
   ]
  },
  {
   "cell_type": "code",
   "execution_count": 6,
   "metadata": {},
   "outputs": [
    {
     "name": "stdout",
     "output_type": "stream",
     "text": [
      "[ 38114      0      0      0 177457 177457 177457      0      0      0\n",
      "      0      0 177457      0      0      0      0      0      0      0\n",
      "      0      0      0  99913  99913  99913 177457 177457 177457      0]\n"
     ]
    }
   ],
   "source": [
    "invalids = np.count_nonzero(X == -999, axis=0)\n",
    "print(invalids)"
   ]
  },
  {
   "cell_type": "markdown",
   "metadata": {},
   "source": [
    "Therefore we get rid of columns [0,4,5,6,12,23,24,25,26,27,28]"
   ]
  },
  {
   "cell_type": "code",
   "execution_count": 7,
   "metadata": {},
   "outputs": [],
   "source": [
    "def clean_and_standardize_features(X):\n",
    "    X_clean = np.delete(X,[0,4,5,6,12,23,24,25,26,27,28], axis=1)\n",
    "    X_standardized = (X_clean - X_clean.mean(axis=0))/X_clean.std(axis = 0)\n",
    "    X_standardized = np.insert(X_standardized, 0, 1, axis=1)\n",
    "    return X_standardized"
   ]
  },
  {
   "cell_type": "code",
   "execution_count": 8,
   "metadata": {},
   "outputs": [],
   "source": [
    "X_standardized = clean_and_standardize_features(X)"
   ]
  },
  {
   "cell_type": "markdown",
   "metadata": {},
   "source": [
    "## Methods from lab1 and lab2"
   ]
  },
  {
   "cell_type": "markdown",
   "metadata": {},
   "source": [
    "We decided to use the sigmoid function: $$S(z) = \\frac{1}{1 + e^{-z}}$$ <br />\n",
    "to map the predicted values to probabilities of the event being a signal(1) rather than background(0) "
   ]
  },
  {
   "cell_type": "code",
   "execution_count": 9,
   "metadata": {},
   "outputs": [],
   "source": [
    "def sigmoid(z):\n",
    "    return 1 / (1 + math.exp(-z))"
   ]
  },
  {
   "cell_type": "code",
   "execution_count": 10,
   "metadata": {},
   "outputs": [],
   "source": [
    "sigmoid_vec = np.vectorize(sigmoid)"
   ]
  },
  {
   "cell_type": "code",
   "execution_count": 11,
   "metadata": {},
   "outputs": [],
   "source": [
    "def predict(x, w):\n",
    "    temp = x@w\n",
    "    return sigmoid_vec(temp)"
   ]
  },
  {
   "cell_type": "markdown",
   "metadata": {},
   "source": [
    "We use the cross-enthropy cost function for loss computation: \n",
    "$$J(\\theta) = -\\frac{1}{N} * (y^T log(Xw) + (1-y)^T log(1-Xw))$$"
   ]
  },
  {
   "cell_type": "code",
   "execution_count": 59,
   "metadata": {},
   "outputs": [],
   "source": [
    "def compute_loss(y, tx, w):\n",
    "    predictions = tx@w\n",
    "    error = y-predictions\n",
    "    #print(error.shape)\n",
    "    #print((error*error).shape)\n",
    "    if(method == 'mse'):\n",
    "        return 1/(2*y.shape[0])*np.sum(error*error)\n",
    "    elif(method == 'mae'):\n",
    "        return 1/(2*y.shape[0])*np.sum(np.abs(error))\n",
    "    elif(method == 'cross-enthropy'):\n",
    "        predictions = predict(tx, w)\n",
    "        return np.sum(-y*np.log(predictions)*pos_weight + (1-y)*np.log(1-predictions))/y.shape[0]\n",
    "    elif(method == 'ridge-regression'):\n",
    "        return 1/(2*y.shape[0])*np.sum(error*error)+np.linalg.norm(w)**2"
   ]
  },
  {
   "cell_type": "code",
   "execution_count": 13,
   "metadata": {},
   "outputs": [],
   "source": [
    "def grid_search(y, tx, w0, w1):\n",
    "    losses = np.zeros((len(w0), len(w1)))\n",
    "    for i in range(len(w0)):\n",
    "        for j in range(len(w1)):\n",
    "            losses[i][j] = compute_loss(y, tx, np.array([w0[i], w1[j]]))\n",
    "    return losses"
   ]
  },
  {
   "cell_type": "code",
   "execution_count": 14,
   "metadata": {},
   "outputs": [],
   "source": [
    "def compute_gradient(y, tx, w):\n",
    "    if(method=='cross-enthropy'):\n",
    "        prediction = predict(tx, w)\n",
    "    else:\n",
    "        prediction = tx@w\n",
    "    error = y-prediction\n",
    "    gradient = -1/y.shape[0]*tx.T@error\n",
    "    return gradient"
   ]
  },
  {
   "cell_type": "code",
   "execution_count": 15,
   "metadata": {},
   "outputs": [],
   "source": [
    "def gradient_descent(y, tx, initial_w, max_iters, gamma):\n",
    "    i = 0\n",
    "    w_res = initial_w\n",
    "    loss_hist = []\n",
    "    w = initial_w\n",
    "    for n_iter in range(max_iters):\n",
    "        gradient = compute_gradient(y, tx, w)\n",
    "        loss = compute_loss(y, tx, w)\n",
    "        w = w - gamma * gradient\n",
    "        # store w and loss\n",
    "        w_res = w\n",
    "        loss_hist.append(loss)\n",
    "        #print(\"Gradient Descent({bi}/{ti}): loss={l}\".format(\n",
    "              #bi=n_iter, ti=max_iters - 1, l=loss))\n",
    "        # Log Progress\n",
    "        i = i + 1\n",
    "        if i % 1000 == 0:\n",
    "            print(\"iter: \" + str(i) + \" loss: \"+str(loss_hist[-1]))\n",
    "\n",
    "    return loss_hist, w_res"
   ]
  },
  {
   "cell_type": "code",
   "execution_count": 16,
   "metadata": {},
   "outputs": [],
   "source": [
    "def batch_iter(y, tx, batch_size, num_batches=1, shuffle=True):\n",
    "    \"\"\"\n",
    "    Generate a minibatch iterator for a dataset.\n",
    "    Takes as input two iterables (here the output desired values 'y' and the input data 'tx')\n",
    "    Outputs an iterator which gives mini-batches of `batch_size` matching elements from `y` and `tx`.\n",
    "    Data can be randomly shuffled to avoid ordering in the original data messing with the randomness of the minibatches.\n",
    "    Example of use :\n",
    "    for minibatch_y, minibatch_tx in batch_iter(y, tx, 32):\n",
    "        <DO-SOMETHING>\n",
    "    \"\"\"\n",
    "    data_size = len(y)\n",
    "\n",
    "    if shuffle:\n",
    "        shuffle_indices = np.random.permutation(np.arange(data_size))\n",
    "        shuffled_y = y[shuffle_indices]\n",
    "        shuffled_tx = tx[shuffle_indices]\n",
    "    else:\n",
    "        shuffled_y = y\n",
    "        shuffled_tx = tx\n",
    "    for batch_num in range(num_batches):\n",
    "        start_index = batch_num * batch_size\n",
    "        end_index = min((batch_num + 1) * batch_size, data_size)\n",
    "        if start_index != end_index:\n",
    "            yield shuffled_y[start_index:end_index], shuffled_tx[start_index:end_index]\n",
    "\n",
    "\n",
    "def stochastic_gradient_descent(y, tx, initial_w, batch_size, max_iters, gamma):\n",
    "    w_res = initial_w\n",
    "    loss_res = 0\n",
    "    w = initial_w\n",
    "    ti = max_iters\n",
    "    for minibatch_y, minibatch_tx in batch_iter(y, tx, 32, max_iters):\n",
    "        gradient = compute_gradient(minibatch_y, minibatch_tx, w)\n",
    "        loss = compute_loss(minibatch_y, minibatch_tx, w)\n",
    "        w = w- gamma * gradient\n",
    "        # store w and loss\n",
    "        w_res = w\n",
    "        loss_res = loss\n",
    "    return loss_res, w_res"
   ]
  },
  {
   "cell_type": "markdown",
   "metadata": {},
   "source": [
    "### Additional methods"
   ]
  },
  {
   "cell_type": "markdown",
   "metadata": {},
   "source": [
    "We label the results <0.5 to -1, and the rest to 1"
   ]
  },
  {
   "cell_type": "code",
   "execution_count": 36,
   "metadata": {},
   "outputs": [],
   "source": [
    "#set the threshold to 0.618 for mse, 0.458 for cross-enthropy\n",
    "def label_results(Y_predicted, threshold=0.61):\n",
    "    f = lambda x: -1 if x<threshold else 1\n",
    "    f_vec = np.vectorize(f)\n",
    "    return f_vec(Y_predicted)"
   ]
  },
  {
   "cell_type": "code",
   "execution_count": 18,
   "metadata": {},
   "outputs": [],
   "source": [
    "def performance(Y, Y_predicted):\n",
    "    return np.sum(Y == Y_predicted)/Y.shape[0]"
   ]
  },
  {
   "cell_type": "code",
   "execution_count": 19,
   "metadata": {},
   "outputs": [],
   "source": [
    "def evaluate_performance(Y, Y_predicted):\n",
    "    false_negatives = 0\n",
    "    true_negatives = 0\n",
    "    false_positives = 0\n",
    "    true_positives = 0\n",
    "    for i in range(Y.shape[0]):\n",
    "        if(Y[i]==-1):\n",
    "            if(Y_predicted[i]==-1):\n",
    "                true_negatives += 1\n",
    "            else:\n",
    "                false_positives += 1\n",
    "        else:\n",
    "            if(Y_predicted[i]==-1):\n",
    "                false_negatives += 1\n",
    "            else:\n",
    "                true_positives += 1\n",
    "    #print('True positives: ' + str(true_positives))\n",
    "    #print('False positives: ' + str(false_positives))\n",
    "    #print('True negatives: ' + str(true_negatives))\n",
    "    #print('False negatives: ' + str(false_negatives))"
   ]
  },
  {
   "cell_type": "markdown",
   "metadata": {},
   "source": [
    "## Trying the $L_2$ - regularization"
   ]
  },
  {
   "cell_type": "code",
   "execution_count": 47,
   "metadata": {},
   "outputs": [],
   "source": [
    "lambda_1 = 0.9\n",
    "lambda_prime = lambda_1 * 2 * N\n",
    "N = X_standardized.shape[1]\n",
    "temp = np.linalg.inv(X_standardized.T@X_standardized + np.identity(N)*lambda_prime)\n",
    "temp_2 = temp@X_standardized.T\n",
    "w_L_2 = temp_2@Y"
   ]
  },
  {
   "cell_type": "code",
   "execution_count": 48,
   "metadata": {},
   "outputs": [
    {
     "name": "stdout",
     "output_type": "stream",
     "text": [
      "0.734944\n"
     ]
    }
   ],
   "source": [
    "Y_predicted = predict(X_standardized, w_L_2)\n",
    "Y_labeled = label_results(Y_predicted)\n",
    "print(performance(Y_labeled, label_results(Y)))\n",
    "# 0.735 for mse\n",
    "#0.74038 for cross-enthropy\n",
    "evaluate_performance(label_results(Y), Y_labeled)"
   ]
  },
  {
   "cell_type": "code",
   "execution_count": 49,
   "metadata": {},
   "outputs": [
    {
     "name": "stdout",
     "output_type": "stream",
     "text": [
      "best threshold is: 0.61\n",
      "best performance is: 0.734944\n"
     ]
    },
    {
     "data": {
      "text/plain": [
       "(0.61, 0.734944)"
      ]
     },
     "execution_count": 49,
     "metadata": {},
     "output_type": "execute_result"
    }
   ],
   "source": [
    "find_best_threshold(Y_predicted, label_results(Y))"
   ]
  },
  {
   "cell_type": "markdown",
   "metadata": {},
   "source": [
    "## Trying the ridge regression"
   ]
  },
  {
   "cell_type": "code",
   "execution_count": 60,
   "metadata": {},
   "outputs": [
    {
     "name": "stdout",
     "output_type": "stream",
     "text": [
      "iter: 1000 loss: 0.341343662548155\n",
      "[ 3.42668000e-01 -1.30529019e-01 -1.30246188e-01  1.09089061e-03\n",
      "  1.42045011e-01 -2.04334185e-02 -1.16313658e-01 -9.67289132e-02\n",
      "  6.65218588e-02  1.19057955e-01 -4.53873551e-04 -4.30972025e-04\n",
      "  1.69735715e-01 -2.98120376e-04  1.15445069e-03  5.41899352e-02\n",
      "  4.19752278e-04 -3.51691003e-02  4.18130347e-02  7.05487149e-02]\n"
     ]
    },
    {
     "data": {
      "text/plain": [
       "[<matplotlib.lines.Line2D at 0x13d11fd30>]"
      ]
     },
     "execution_count": 60,
     "metadata": {},
     "output_type": "execute_result"
    },
    {
     "data": {
      "image/png": "[encoded data removed]",
      "text/plain": [
       "<Figure size 432x288 with 1 Axes>"
      ]
     },
     "metadata": {
      "needs_background": "light"
     },
     "output_type": "display_data"
    }
   ],
   "source": [
    "max_iters = 1000\n",
    "gamma = 0.15\n",
    "batch_size = 1\n",
    "\n",
    "method = methods[3]\n",
    "losses, w_ridge = gradient_descent(Y, X_standardized, np.ones(X_standardized.shape[1]), max_iters, gamma)\n",
    "print(w_ridge)\n",
    "plt.plot(losses)"
   ]
  },
  {
   "cell_type": "code",
   "execution_count": 61,
   "metadata": {},
   "outputs": [
    {
     "name": "stdout",
     "output_type": "stream",
     "text": [
      "0.734956\n"
     ]
    }
   ],
   "source": [
    "Y_predicted = predict(X_standardized, w_ridge)\n",
    "Y_labeled = label_results(Y_predicted)\n",
    "print(performance(Y_labeled, label_results(Y)))\n",
    "# 0.735 for mse\n",
    "#0.74038 for cross-enthropy\n",
    "evaluate_performance(label_results(Y), Y_labeled)"
   ]
  },
  {
   "cell_type": "code",
   "execution_count": 62,
   "metadata": {},
   "outputs": [
    {
     "name": "stdout",
     "output_type": "stream",
     "text": [
      "best threshold is: 0.61\n",
      "best performance is: 0.734956\n"
     ]
    },
    {
     "data": {
      "text/plain": [
       "(0.61, 0.734956)"
      ]
     },
     "execution_count": 62,
     "metadata": {},
     "output_type": "execute_result"
    }
   ],
   "source": [
    "find_best_threshold(Y_predicted, label_results(Y))"
   ]
  },
  {
   "cell_type": "markdown",
   "metadata": {},
   "source": [
    "## Trying gradient descent"
   ]
  },
  {
   "cell_type": "code",
   "execution_count": 68,
   "metadata": {},
   "outputs": [
    {
     "name": "stdout",
     "output_type": "stream",
     "text": [
      "iter: 1000 loss: 0.18083316931498886\n",
      "[ 3.42668000e-01 -1.30529019e-01 -1.30246188e-01  1.09089061e-03\n",
      "  1.42045011e-01 -2.04334185e-02 -1.16313658e-01 -9.67289132e-02\n",
      "  6.65218588e-02  1.19057955e-01 -4.53873551e-04 -4.30972025e-04\n",
      "  1.69735715e-01 -2.98120376e-04  1.15445069e-03  5.41899352e-02\n",
      "  4.19752278e-04 -3.51691003e-02  4.18130347e-02  7.05487149e-02]\n"
     ]
    },
    {
     "data": {
      "text/plain": [
       "[<matplotlib.lines.Line2D at 0x116001080>]"
      ]
     },
     "execution_count": 68,
     "metadata": {},
     "output_type": "execute_result"
    },
    {
     "data": {
      "image/png": "[encoded data removed]",
      "text/plain": [
       "<Figure size 432x288 with 1 Axes>"
      ]
     },
     "metadata": {
      "needs_background": "light"
     },
     "output_type": "display_data"
    }
   ],
   "source": [
    "max_iters = 1000\n",
    "gamma = 0.15\n",
    "batch_size = 1\n",
    "\n",
    "method = methods[1]\n",
    "losses, w = gradient_descent(Y, X_standardized, np.ones(X_standardized.shape[1]), max_iters, gamma)\n",
    "print(w)\n",
    "plt.plot(losses)"
   ]
  },
  {
   "cell_type": "code",
   "execution_count": 69,
   "metadata": {},
   "outputs": [
    {
     "name": "stdout",
     "output_type": "stream",
     "text": [
      "0.734956\n"
     ]
    }
   ],
   "source": [
    "Y_predicted = predict(X_standardized, w)\n",
    "Y_labeled = label_results(Y_predicted)\n",
    "print(performance(Y_labeled, label_results(Y)))\n",
    "# 0.735 for mse\n",
    "#0.74038 for cross-enthropy"
   ]
  },
  {
   "cell_type": "code",
   "execution_count": 70,
   "metadata": {},
   "outputs": [],
   "source": [
    "evaluate_performance(label_results(Y), Y_labeled)"
   ]
  },
  {
   "cell_type": "code",
   "execution_count": 71,
   "metadata": {},
   "outputs": [],
   "source": [
    "def find_best_threshold(Y_predicted, Y_labeled):\n",
    "    best_t = 0.5\n",
    "    best_perf = performance(Y_labeled, label_results(Y_predicted, threshold=best_t))\n",
    "    for i in range(0, 100):\n",
    "        perf = performance(Y_labeled, label_results(Y_predicted, threshold=i/100))\n",
    "        #print('threshold is: ' + str(i/100))\n",
    "        #print('performance is: ' + str(perf))\n",
    "        if(perf>best_perf):\n",
    "            best_t = i/100\n",
    "            best_perf = perf\n",
    "    print('best threshold is: ' + str(best_t))\n",
    "    print('best performance is: ' + str(best_perf))\n",
    "    return best_t, best_perf"
   ]
  },
  {
   "cell_type": "code",
   "execution_count": 72,
   "metadata": {},
   "outputs": [
    {
     "name": "stdout",
     "output_type": "stream",
     "text": [
      "best threshold is: 0.61\n",
      "best performance is: 0.734956\n"
     ]
    },
    {
     "data": {
      "text/plain": [
       "(0.61, 0.734956)"
      ]
     },
     "execution_count": 72,
     "metadata": {},
     "output_type": "execute_result"
    }
   ],
   "source": [
    "find_best_threshold(Y_predicted, label_results(Y))"
   ]
  },
  {
   "cell_type": "markdown",
   "metadata": {},
   "source": [
    "# Oversampling the signal class"
   ]
  },
  {
   "cell_type": "code",
   "execution_count": 23,
   "metadata": {},
   "outputs": [
    {
     "name": "stdout",
     "output_type": "stream",
     "text": [
      "(328666, 21)\n"
     ]
    }
   ],
   "source": [
    "all_data = np.column_stack([Y, X_standardized])\n",
    "distrib = np.bincount(all_data[:,0].astype(int))\n",
    "prob = 1/distrib[all_data[:, 0].astype(int)].astype(float)\n",
    "prob /= prob.sum()\n",
    "all_data = all_data[np.random.choice(np.arange(len(all_data)), size=np.count_nonzero(distrib)*distrib.max(), p=prob)]\n",
    "print(all_data.shape)"
   ]
  },
  {
   "cell_type": "markdown",
   "metadata": {},
   "source": [
    "### Rerunning the gradient descent with oversampled data"
   ]
  },
  {
   "cell_type": "code",
   "execution_count": 27,
   "metadata": {},
   "outputs": [
    {
     "name": "stderr",
     "output_type": "stream",
     "text": [
      "/Users/michal/anaconda3/lib/python3.7/site-packages/ipykernel_launcher.py:12: RuntimeWarning: divide by zero encountered in log\n",
      "  if sys.path[0] == '':\n",
      "/Users/michal/anaconda3/lib/python3.7/site-packages/ipykernel_launcher.py:12: RuntimeWarning: invalid value encountered in multiply\n",
      "  if sys.path[0] == '':\n"
     ]
    },
    {
     "name": "stdout",
     "output_type": "stream",
     "text": [
      "[-0.21241254 -0.66080061 -0.82736221  0.26267319  0.90951349 -0.0912151\n",
      " -0.02582232 -0.27697045  0.3239982   0.82237228 -0.01348343  0.00442482\n",
      "  0.5729389   0.00454856  0.01161325  0.13358303 -0.0050629  -0.22087349\n",
      "  0.16615709 -0.0742139 ]\n",
      "-0.015667577925266133\n"
     ]
    },
    {
     "data": {
      "text/plain": [
       "[<matplotlib.lines.Line2D at 0x116fd8160>]"
      ]
     },
     "execution_count": 27,
     "metadata": {},
     "output_type": "execute_result"
    },
    {
     "data": {
      "image/png": "[encoded data removed]",
      "text/plain": [
       "<Figure size 432x288 with 1 Axes>"
      ]
     },
     "metadata": {
      "needs_background": "light"
     },
     "output_type": "display_data"
    }
   ],
   "source": [
    "max_iters = 500\n",
    "gamma = 0.15\n",
    "batch_size = 1\n",
    "\n",
    "losses, w = gradient_descent(all_data[:,0], all_data[:,1:], np.ones(X_standardized.shape[1]), max_iters, gamma)\n",
    "print(w)\n",
    "print(losses[-1])\n",
    "plt.plot(losses)"
   ]
  },
  {
   "cell_type": "code",
   "execution_count": 28,
   "metadata": {},
   "outputs": [
    {
     "name": "stdout",
     "output_type": "stream",
     "text": [
      "0.727268\n"
     ]
    }
   ],
   "source": [
    "Y_predicted = predict(X_standardized, w)\n",
    "Y_labeled = label_results(Y_predicted)\n",
    "print(performance(Y_labeled, label_results(Y)))\n",
    "# 0.735 for mse\n",
    "#0.74038 for cross-enthropy\n",
    "evaluate_performance(label_results(Y), Y_labeled)"
   ]
  },
  {
   "cell_type": "code",
   "execution_count": 29,
   "metadata": {},
   "outputs": [
    {
     "name": "stdout",
     "output_type": "stream",
     "text": [
      "threshold is: 0.0\n",
      "performance is: 0.342668\n",
      "threshold is: 0.01\n",
      "performance is: 0.343576\n",
      "threshold is: 0.02\n",
      "performance is: 0.344568\n",
      "threshold is: 0.03\n",
      "performance is: 0.345724\n",
      "threshold is: 0.04\n",
      "performance is: 0.347628\n",
      "threshold is: 0.05\n",
      "performance is: 0.350572\n",
      "threshold is: 0.06\n",
      "performance is: 0.35584\n",
      "threshold is: 0.07\n",
      "performance is: 0.363236\n",
      "threshold is: 0.08\n",
      "performance is: 0.372588\n",
      "threshold is: 0.09\n",
      "performance is: 0.382964\n",
      "threshold is: 0.1\n",
      "performance is: 0.394512\n",
      "threshold is: 0.11\n",
      "performance is: 0.406756\n",
      "threshold is: 0.12\n",
      "performance is: 0.420008\n",
      "threshold is: 0.13\n",
      "performance is: 0.43318\n",
      "threshold is: 0.14\n",
      "performance is: 0.446312\n",
      "threshold is: 0.15\n",
      "performance is: 0.459376\n",
      "threshold is: 0.16\n",
      "performance is: 0.472584\n",
      "threshold is: 0.17\n",
      "performance is: 0.485832\n",
      "threshold is: 0.18\n",
      "performance is: 0.4986\n",
      "threshold is: 0.19\n",
      "performance is: 0.51128\n",
      "threshold is: 0.2\n",
      "performance is: 0.523572\n",
      "threshold is: 0.21\n",
      "performance is: 0.535448\n",
      "threshold is: 0.22\n",
      "performance is: 0.546364\n",
      "threshold is: 0.23\n",
      "performance is: 0.557288\n",
      "threshold is: 0.24\n",
      "performance is: 0.568228\n",
      "threshold is: 0.25\n",
      "performance is: 0.57816\n",
      "threshold is: 0.26\n",
      "performance is: 0.588164\n",
      "threshold is: 0.27\n",
      "performance is: 0.5974\n",
      "threshold is: 0.28\n",
      "performance is: 0.606404\n",
      "threshold is: 0.29\n",
      "performance is: 0.61538\n",
      "threshold is: 0.3\n",
      "performance is: 0.623676\n",
      "threshold is: 0.31\n",
      "performance is: 0.63164\n",
      "threshold is: 0.32\n",
      "performance is: 0.63906\n",
      "threshold is: 0.33\n",
      "performance is: 0.646316\n",
      "threshold is: 0.34\n",
      "performance is: 0.653084\n",
      "threshold is: 0.35\n",
      "performance is: 0.659892\n",
      "threshold is: 0.36\n",
      "performance is: 0.665876\n",
      "threshold is: 0.37\n",
      "performance is: 0.671768\n",
      "threshold is: 0.38\n",
      "performance is: 0.67762\n",
      "threshold is: 0.39\n",
      "performance is: 0.683404\n",
      "threshold is: 0.4\n",
      "performance is: 0.68838\n",
      "threshold is: 0.41\n",
      "performance is: 0.692828\n",
      "threshold is: 0.42\n",
      "performance is: 0.697508\n",
      "threshold is: 0.43\n",
      "performance is: 0.70216\n",
      "threshold is: 0.44\n",
      "performance is: 0.70594\n",
      "threshold is: 0.45\n",
      "performance is: 0.70972\n",
      "threshold is: 0.46\n",
      "performance is: 0.713256\n",
      "threshold is: 0.47\n",
      "performance is: 0.716536\n",
      "threshold is: 0.48\n",
      "performance is: 0.71956\n",
      "threshold is: 0.49\n",
      "performance is: 0.722192\n",
      "threshold is: 0.5\n",
      "performance is: 0.72478\n",
      "threshold is: 0.51\n",
      "performance is: 0.727268\n",
      "threshold is: 0.52\n",
      "performance is: 0.729608\n",
      "threshold is: 0.53\n",
      "performance is: 0.7318\n",
      "threshold is: 0.54\n",
      "performance is: 0.733128\n",
      "threshold is: 0.55\n",
      "performance is: 0.734524\n",
      "threshold is: 0.56\n",
      "performance is: 0.735716\n",
      "threshold is: 0.57\n",
      "performance is: 0.73704\n",
      "threshold is: 0.58\n",
      "performance is: 0.738272\n",
      "threshold is: 0.59\n",
      "performance is: 0.738788\n",
      "threshold is: 0.6\n",
      "performance is: 0.739484\n",
      "threshold is: 0.61\n",
      "performance is: 0.73962\n",
      "threshold is: 0.62\n",
      "performance is: 0.739352\n",
      "threshold is: 0.63\n",
      "performance is: 0.739404\n",
      "threshold is: 0.64\n",
      "performance is: 0.738996\n",
      "threshold is: 0.65\n",
      "performance is: 0.737904\n",
      "threshold is: 0.66\n",
      "performance is: 0.736456\n",
      "threshold is: 0.67\n",
      "performance is: 0.734912\n",
      "threshold is: 0.68\n",
      "performance is: 0.733316\n",
      "threshold is: 0.69\n",
      "performance is: 0.731236\n",
      "threshold is: 0.7\n",
      "performance is: 0.729064\n",
      "threshold is: 0.71\n",
      "performance is: 0.726952\n",
      "threshold is: 0.72\n",
      "performance is: 0.723896\n",
      "threshold is: 0.73\n",
      "performance is: 0.720716\n",
      "threshold is: 0.74\n",
      "performance is: 0.71696\n",
      "threshold is: 0.75\n",
      "performance is: 0.713108\n",
      "threshold is: 0.76\n",
      "performance is: 0.708984\n",
      "threshold is: 0.77\n",
      "performance is: 0.704912\n",
      "threshold is: 0.78\n",
      "performance is: 0.701264\n",
      "threshold is: 0.79\n",
      "performance is: 0.697216\n",
      "threshold is: 0.8\n",
      "performance is: 0.692944\n",
      "threshold is: 0.81\n",
      "performance is: 0.689048\n",
      "threshold is: 0.82\n",
      "performance is: 0.685536\n",
      "threshold is: 0.83\n",
      "performance is: 0.681824\n",
      "threshold is: 0.84\n",
      "performance is: 0.678032\n",
      "threshold is: 0.85\n",
      "performance is: 0.67478\n",
      "threshold is: 0.86\n",
      "performance is: 0.67166\n",
      "threshold is: 0.87\n",
      "performance is: 0.669096\n",
      "threshold is: 0.88\n",
      "performance is: 0.6669\n",
      "threshold is: 0.89\n",
      "performance is: 0.665164\n",
      "threshold is: 0.9\n",
      "performance is: 0.663564\n",
      "threshold is: 0.91\n",
      "performance is: 0.6624\n",
      "threshold is: 0.92\n",
      "performance is: 0.661604\n",
      "threshold is: 0.93\n",
      "performance is: 0.661004\n",
      "threshold is: 0.94\n",
      "performance is: 0.66036\n",
      "threshold is: 0.95\n",
      "performance is: 0.6598\n",
      "threshold is: 0.96\n",
      "performance is: 0.659328\n",
      "threshold is: 0.97\n",
      "performance is: 0.658908\n",
      "threshold is: 0.98\n",
      "performance is: 0.65852\n",
      "threshold is: 0.99\n",
      "performance is: 0.658184\n",
      "best threshold is: 0.61\n",
      "best performance is: 0.73962\n"
     ]
    },
    {
     "data": {
      "text/plain": [
       "(0.61, 0.73962)"
      ]
     },
     "execution_count": 29,
     "metadata": {},
     "output_type": "execute_result"
    }
   ],
   "source": [
    "find_best_threshold(Y_predicted, label_results(Y))"
   ]
  },
  {
   "cell_type": "markdown",
   "metadata": {},
   "source": [
    "## Load test data"
   ]
  },
  {
   "cell_type": "code",
   "execution_count": null,
   "metadata": {},
   "outputs": [],
   "source": [
    "test_data = np.genfromtxt(testing_data, delimiter=',', skip_header=1)\n",
    "test_X = test_data[:, 2:]\n",
    "test_X_standardized = clean_and_standardize_features(test_X)"
   ]
  },
  {
   "cell_type": "code",
   "execution_count": null,
   "metadata": {},
   "outputs": [],
   "source": [
    "test_predictions = label_results(predict(test_X_standardized, w))\n",
    "test_ids = range(350000,918238)"
   ]
  },
  {
   "cell_type": "code",
   "execution_count": null,
   "metadata": {},
   "outputs": [],
   "source": [
    "test_results = np.column_stack([test_ids, test_predictions])\n",
    "suffix = time.time()\n",
    "np.savetxt('submission' + str(suffix) + '.csv', test_results, fmt=\"%d\", delimiter=\",\", header=\"Id,Prediction\", comments='')"
   ]
  }
 ],
 "metadata": {
  "kernelspec": {
   "display_name": "Python 3",
   "language": "python",
   "name": "python3"
  },
  "language_info": {
   "codemirror_mode": {
    "name": "ipython",
    "version": 3
   },
   "file_extension": ".py",
   "mimetype": "text/x-python",
   "name": "python",
   "nbconvert_exporter": "python",
   "pygments_lexer": "ipython3",
   "version": "3.7.1"
  }
 },
 "nbformat": 4,
 "nbformat_minor": 2
}
